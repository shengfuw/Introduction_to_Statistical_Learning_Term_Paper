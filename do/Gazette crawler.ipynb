{
 "cells": [
  {
   "attachments": {},
   "cell_type": "markdown",
   "metadata": {},
   "source": [
    "### 1. Download selected files from the list of gazette"
   ]
  },
  {
   "cell_type": "code",
   "execution_count": 2,
   "metadata": {},
   "outputs": [],
   "source": [
    "import os\n",
    "\n",
    "## create folders\n",
    "source_folder = \"../workdata/doc\"\n",
    "if not os.path.exists(source_folder):\n",
    "    os.makedirs(source_folder)\n",
    "\n",
    "dest_folder = \"../workdata/docx\"\n",
    "if not os.path.exists(dest_folder):\n",
    "    os.makedirs(dest_folder)\n",
    "\n",
    "speech_folder = \"../workdata/speech\"\n",
    "if not os.path.exists(speech_folder):\n",
    "    os.makedirs(speech_folder)"
   ]
  },
  {
   "cell_type": "code",
   "execution_count": 3,
   "metadata": {},
   "outputs": [
    {
     "data": {
      "text/plain": [
       "(167, 238)"
      ]
     },
     "execution_count": 3,
     "metadata": {},
     "output_type": "execute_result"
    }
   ],
   "source": [
    "import pandas as pd\n",
    "\n",
    "gazette_list =  pd.read_csv(\"../rawdata/公報清單.csv\", encoding=\"utf-8\")\n",
    "\n",
    "gazette_list.iloc[: , :20]\n",
    "gazette_list['meeting_id'] = gazette_list.docUrl.apply(lambda x: str(x).split(\"/\")[-1].replace(\".doc\", \"\"))\n",
    "\n",
    "term_condition = (gazette_list.term == \"10\") # 屆別\n",
    "sessionPeriod_condition = (gazette_list.sessionPeriod == \"7\") # 會期\n",
    "agendaType_condition = (gazette_list.agendaType == 3) # 會議類別 (3: 委員會)\n",
    "subject_condition = (gazette_list.subject.str.contains(\"社會福利及衛生環境委員會\")) # 會議主題名稱\n",
    "subject_condition_full = (gazette_list.subject.str.contains(\"社會福利及衛生環境\")) \n",
    "\n",
    "## select only term (屆別) = 10 and subject (會議名稱) contains \"社會福利及衛生環境委員會\"\n",
    "gazette_list_selected = gazette_list.loc[term_condition & subject_condition, :].copy()\n",
    "gazette_list_selected.to_csv(\"../workdata/公報_selected.csv\", index=False, encoding=\"utf-8\")\n",
    "\n",
    "gazette_list_selected_full = gazette_list.loc[term_condition & subject_condition_full, :].copy()\n",
    "gazette_list_selected_full.to_csv(\"../workdata/公報_selected_full.csv\", index=False, encoding=\"utf-8\")\n",
    "\n",
    "(len(gazette_list_selected), len(gazette_list_selected_full))"
   ]
  },
  {
   "cell_type": "code",
   "execution_count": 62,
   "metadata": {},
   "outputs": [
    {
     "name": "stdout",
     "output_type": "stream",
     "text": [
      "Start downloading...\n",
      "167 - 10.20.30.40.50.60.70.80.90.100.110.120.130.140.150.160.\n",
      "Download completed!\n"
     ]
    }
   ],
   "source": [
    "import requests\n",
    "\n",
    "HEADERS = {'User-Agent': 'Mozilla/5.0 (iPad; CPU OS 12_2 like Mac OS X) AppleWebKit/605.1.15 (KHTML, like Gecko) Mobile/15E148'}\n",
    "\n",
    "def download_file(url, destination):\n",
    "    '''\n",
    "    Download file from url and save it to destination folder\n",
    "    '''\n",
    "    file_path = url.split(\"/\")[-1]\n",
    "    ## if file not in doc folder, download it\n",
    "    if not os.path.exists(os.path.join(source_folder, file_path)) and not os.path.exists(os.path.join(dest_folder, file_path.replace(\".doc\", \".docx\"))):\n",
    "        response = requests.get(url, headers=HEADERS)\n",
    "        if response.status_code == 200:\n",
    "            file_path = os.path.join(destination, file_path)\n",
    "            open(file_path, \"wb\").write(response.content)\n",
    "        else:\n",
    "            print(\"Failed to download the file: %s\" % file_path)\n",
    "\n",
    "print(\"Start downloading...\\n{}\".format(len(gazette_list_selected)), end=\" - \") \n",
    "i = 1\n",
    "for url in gazette_list_selected.docUrl:\n",
    "    download_file(url, source_folder)\n",
    "    if i % 10 == 0: print(i, end=\".\")\n",
    "    i += 1\n",
    "print(\"\\nDownload completed!\")"
   ]
  },
  {
   "attachments": {},
   "cell_type": "markdown",
   "metadata": {},
   "source": [
    "### 2. Convert all .doc to .docx"
   ]
  },
  {
   "cell_type": "code",
   "execution_count": 63,
   "metadata": {},
   "outputs": [],
   "source": [
    "import os\n",
    "import subprocess\n",
    "\n",
    "g = os.walk(source_folder)\n",
    "\n",
    "for path, dir_list, file_list in g:\n",
    "    for file_name in file_list:\n",
    "        file = (os.path.join(path, file_name))\n",
    "        output = subprocess.check_output([\"/Applications/LibreOffice.app/Contents/MacOS/soffice\", \"--headless\", \"--convert-to\", \"docx\", file, \"--outdir\", dest_folder])\n",
    "        os.remove(file)"
   ]
  },
  {
   "attachments": {},
   "cell_type": "markdown",
   "metadata": {},
   "source": [
    "### Split into individual speeches"
   ]
  },
  {
   "cell_type": "code",
   "execution_count": 21,
   "metadata": {},
   "outputs": [],
   "source": [
    "import pandas as pd\n",
    "import docx\n",
    "import re\n",
    "\n",
    "def read_docx(file_path):\n",
    "    doc = docx.Document(file_path)\n",
    "    full_text = \"\"\n",
    "    for para in doc.paragraphs:\n",
    "        full_text += para.text + \"#@\"\n",
    "    full_text = re.sub('#@(?!.{2,6}：)', '', full_text)\n",
    "    return full_text\n",
    "\n",
    "def split_speeches(file_path):\n",
    "    meeting_id = file_path.split(\"/\")[-1].replace(\".docx\", \"\")\n",
    "    full_text = read_docx(file_path)\n",
    "\n",
    "    pattern = '@[\\u4e00-\\u9fa5]{1,2}委員[\\u4e00-\\u9fa5]{1,2}：(.+?)#'\n",
    "    matches = re.finditer(pattern, full_text)\n",
    "    results = [match.group() for match in matches]\n",
    "\n",
    "    speaker = []\n",
    "    speech_text = []\n",
    "    speech_number = []\n",
    "    for i, result in enumerate(results):\n",
    "        speaker.append(result.split('：')[0].replace('@', '').replace('委員', ''))\n",
    "        speech_text.append('：'.join(result.split('：')[1:]).replace('#', ''))\n",
    "        speech_number.append(i + 1)\n",
    "\n",
    "    df = pd.DataFrame({'speaker': speaker, 'speech_text': speech_text, 'speech_number': speech_number, 'meeting_id': meeting_id})\n",
    "    return df\n",
    "\n",
    "for file in os.listdir(dest_folder):\n",
    "    file_path = os.path.join(dest_folder, file)\n",
    "    file_name = file_path.split(\"/\")[-1]\n",
    "\n",
    "    # if file_name.replace(\".docx\", \"\") not in gazette_list_selected.meeting_id.values:\n",
    "    #     os.remove(file_path)\n",
    "    #     continue\n",
    "\n",
    "    if file_name.endswith(\".docx\"):\n",
    "        new_file_path = os.path.join(speech_folder, file_name.replace(\".docx\", \".csv\"))\n",
    "        # if os.path.exists(new_file_path):\n",
    "        #     continue \n",
    "        output_df = split_speeches(file_path)\n",
    "        output_df.to_csv(new_file_path, index=False)        "
   ]
  }
 ],
 "metadata": {
  "kernelspec": {
   "display_name": "base",
   "language": "python",
   "name": "python3"
  },
  "language_info": {
   "codemirror_mode": {
    "name": "ipython",
    "version": 3
   },
   "file_extension": ".py",
   "mimetype": "text/x-python",
   "name": "python",
   "nbconvert_exporter": "python",
   "pygments_lexer": "ipython3",
   "version": "3.9.7"
  },
  "orig_nbformat": 4
 },
 "nbformat": 4,
 "nbformat_minor": 2
}
